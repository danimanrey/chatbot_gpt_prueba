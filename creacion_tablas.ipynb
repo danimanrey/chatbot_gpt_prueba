{
 "cells": [
  {
   "cell_type": "code",
   "execution_count": 5,
   "metadata": {},
   "outputs": [
    {
     "data": {
      "text/plain": [
       "'c:\\\\Users\\\\Ana\\\\Desktop\\\\4. BOOTCAMP\\\\Ana Fdz\\\\4-Data_Engineering\\\\Proyecto_API_GPT'"
      ]
     },
     "execution_count": 5,
     "metadata": {},
     "output_type": "execute_result"
    }
   ],
   "source": [
    "import pymysql\n",
    "import json\n",
    "import os\n",
    "\n",
    "os.getcwd()"
   ]
  },
  {
   "cell_type": "code",
   "execution_count": 6,
   "metadata": {},
   "outputs": [],
   "source": [
    "with open(\"cred.json\", \"r\") as file:\n",
    "    data = json.load(file)"
   ]
  },
  {
   "cell_type": "code",
   "execution_count": 7,
   "metadata": {},
   "outputs": [],
   "source": [
    "username = data[\"username\"]\n",
    "password = data[\"password\"]\n",
    "host = data[\"host\"]\n",
    "port = data[\"port\"]\n",
    "db = pymysql.connect(host = host,\n",
    "                     user = username,\n",
    "                     password = password,\n",
    "                     cursorclass = pymysql.cursors.DictCursor\n",
    ")\n",
    "\n",
    "# El objeto cursor ejecutará las queries y devolverá los resultados\n",
    "\n",
    "cursor = db.cursor()"
   ]
  },
  {
   "cell_type": "code",
   "execution_count": 8,
   "metadata": {},
   "outputs": [
    {
     "data": {
      "text/plain": [
       "1"
      ]
     },
     "execution_count": 8,
     "metadata": {},
     "output_type": "execute_result"
    }
   ],
   "source": [
    "create_db = '''CREATE DATABASE IF NOT EXISTS bbdd_gpt'''\n",
    "cursor.execute(create_db)\n",
    "\n",
    "# Meter un try-except"
   ]
  },
  {
   "cell_type": "code",
   "execution_count": 9,
   "metadata": {},
   "outputs": [
    {
     "data": {
      "text/plain": [
       "[{'Database': 'bbdd_gpt'},\n",
       " {'Database': 'information_schema'},\n",
       " {'Database': 'mysql'},\n",
       " {'Database': 'performance_schema'},\n",
       " {'Database': 'sys'}]"
      ]
     },
     "execution_count": 9,
     "metadata": {},
     "output_type": "execute_result"
    }
   ],
   "source": [
    "cursor.execute('SHOW DATABASES')\n",
    "cursor.fetchall()"
   ]
  },
  {
   "cell_type": "code",
   "execution_count": 10,
   "metadata": {},
   "outputs": [
    {
     "data": {
      "text/plain": [
       "0"
      ]
     },
     "execution_count": 10,
     "metadata": {},
     "output_type": "execute_result"
    }
   ],
   "source": [
    "# Para usar la BD  recien creada\n",
    "\n",
    "cursor.connection.commit()\n",
    "use_db = ''' USE bbdd_gpt'''\n",
    "cursor.execute(use_db)"
   ]
  },
  {
   "cell_type": "code",
   "execution_count": 11,
   "metadata": {},
   "outputs": [],
   "source": [
    "create_usuario_table = \"\"\"\n",
    "CREATE TABLE IF NOT EXISTS Usuario (\n",
    "  id_usuario INT AUTO_INCREMENT PRIMARY KEY,\n",
    "  nombre VARCHAR(255) NOT NULL\n",
    ");\n",
    "\"\"\"\n",
    "\n",
    "create_pregunta_table = \"\"\"\n",
    "CREATE TABLE IF NOT EXISTS Pregunta (\n",
    "  id_pregunta INT AUTO_INCREMENT PRIMARY KEY,\n",
    "  id_usuario INT,\n",
    "  fecha_pregunta DATE NOT NULL,\n",
    "  texto_pregunta VARCHAR(255) NOT NULL,\n",
    "  FOREIGN KEY (id_usuario) REFERENCES Usuario(id_usuario)\n",
    ");\n",
    "\"\"\"\n",
    "\n",
    "create_fecha_table = \"\"\"\n",
    "CREATE TABLE IF NOT EXISTS Fecha (\n",
    "  id_fecha INT AUTO_INCREMENT PRIMARY KEY,\n",
    "  id_pregunta INT,\n",
    "  fecha_pregunta DATE NOT NULL,\n",
    "  fecha_respuesta DATE NOT NULL,\n",
    "  FOREIGN KEY (id_pregunta) REFERENCES Pregunta(id_pregunta)\n",
    ");\n",
    "\"\"\"\n",
    "\n",
    "create_respuesta_table = \"\"\"\n",
    "CREATE TABLE IF NOT EXISTS Respuesta (\n",
    "  id_respuesta INT AUTO_INCREMENT PRIMARY KEY,\n",
    "  id_pregunta INT,\n",
    "  texto_respuesta VARCHAR(255) NOT NULL,\n",
    "  id_fecha INT,\n",
    "  FOREIGN KEY (id_pregunta) REFERENCES Pregunta(id_pregunta),\n",
    "  FOREIGN KEY (id_fecha) REFERENCES Fecha(id_fecha)\n",
    ");\n",
    "\"\"\"\n"
   ]
  },
  {
   "cell_type": "code",
   "execution_count": 12,
   "metadata": {},
   "outputs": [],
   "source": [
    "cursor.execute(create_usuario_table)\n",
    "cursor.execute(create_pregunta_table)\n",
    "cursor.execute(create_fecha_table)\n",
    "cursor.execute(create_respuesta_table)\n",
    "\n",
    "cursor.connection.commit()\n",
    "# No olvide cerrar la conexión cuando haya terminado\n",
    "cursor.close()"
   ]
  },
  {
   "cell_type": "code",
   "execution_count": 13,
   "metadata": {},
   "outputs": [],
   "source": [
    "cursor = db.cursor()\n",
    "cursor.connection.commit()\n",
    "use_db = ''' USE bbdd_gpt'''\n",
    "cursor.execute(use_db)\n",
    "cursor.execute('''select * from Respuesta''')\n",
    "cursor.fetchall()\n",
    "cursor.close()"
   ]
  }
 ],
 "metadata": {
  "kernelspec": {
   "display_name": "Python 3",
   "language": "python",
   "name": "python3"
  },
  "language_info": {
   "codemirror_mode": {
    "name": "ipython",
    "version": 3
   },
   "file_extension": ".py",
   "mimetype": "text/x-python",
   "name": "python",
   "nbconvert_exporter": "python",
   "pygments_lexer": "ipython3",
   "version": "3.11.3"
  }
 },
 "nbformat": 4,
 "nbformat_minor": 2
}
